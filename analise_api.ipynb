{
 "cells": [
  {
   "cell_type": "code",
   "execution_count": 106,
   "metadata": {},
   "outputs": [],
   "source": [
    "import requests\n",
    "from datetime import datetime, timedelta\n",
    "import pandas as pd\n",
    "from collections import Counter\n",
    "\n",
    "\n",
    "url = \"https://date.nager.at/api/v3/publicholidays/2024/BR\"\n",
    "feriados = requests.get(url).json()\n",
    "\n",
    "url = \"https://archive-api.open-meteo.com/v1/archive\"\n",
    "params = {\n",
    "    'latitude': -22.9068,\n",
    "    'longitude': -43.1729,\n",
    "    'start_date': '2024-01-01',\n",
    "    'end_date': '2024-08-01',\n",
    "    'daily': 'temperature_2m_max,temperature_2m_min,weathercode',\n",
    "    'temperature_unit': 'celsius',\n",
    "    'timezone': 'America/Sao_Paulo'\n",
    "}\n",
    "\n",
    "clima = requests.get(url, params=params).json()\n",
    "\n",
    "url = \"https://gist.githubusercontent.com/stellasphere/9490c195ed2b53c707087c8c2db4ec0c/raw/76b0cb0ef0bfd8a2ec988aa54e30ecd1b483495d/descriptions.json\"\n",
    "descricao = requests.get(url).json()\n"
   ]
  },
  {
   "cell_type": "markdown",
   "metadata": {},
   "source": [
    "1. **Quantos feriados há no Brasil em todo o ano de 2024?**"
   ]
  },
  {
   "cell_type": "code",
   "execution_count": 107,
   "metadata": {},
   "outputs": [
    {
     "name": "stdout",
     "output_type": "stream",
     "text": [
      "Há no total 15 Feriados\n"
     ]
    }
   ],
   "source": [
    "print(f\"Há no total {len(feriados)} Feriados\")"
   ]
  },
  {
   "cell_type": "markdown",
   "metadata": {},
   "source": [
    "2. **Qual mês de 2024 tem o maior número de feriados?**"
   ]
  },
  {
   "cell_type": "code",
   "execution_count": 108,
   "metadata": {},
   "outputs": [
    {
     "name": "stdout",
     "output_type": "stream",
     "text": [
      "O Mês com mais feriados é o Mês 11 com 3 Feriados\n"
     ]
    }
   ],
   "source": [
    "meses = []\n",
    "for feriado in feriados:\n",
    "    data = datetime.strptime(feriado['date'], '%Y-%m-%d')\n",
    "    meses.append(data.strftime(\"%m\"))\n",
    "\n",
    "contagem = Counter(meses)\n",
    "\n",
    "mes = contagem.most_common(1)[0][0]\n",
    "num_feriados = contagem.most_common(1)[0][1]\n",
    "print(f\"O Mês com mais feriados é o Mês {mes} com {num_feriados} Feriados\")"
   ]
  },
  {
   "cell_type": "markdown",
   "metadata": {},
   "source": [
    "3. **Quantos feriados em 2024 caem em dias de semana (segunda a sexta-feira)?**"
   ]
  },
  {
   "cell_type": "code",
   "execution_count": 109,
   "metadata": {},
   "outputs": [
    {
     "name": "stdout",
     "output_type": "stream",
     "text": [
      "10 Feriados caem em dias de semana em 2024\n"
     ]
    }
   ],
   "source": [
    "dias_semana = ['Monday', 'Tuesday', 'Wednesday', 'Thursday', 'Friday']\n",
    "feriados_semana = []\n",
    "\n",
    "for feriado in feriados:\n",
    "    data = datetime.strptime(feriado['date'], '%Y-%m-%d')\n",
    "    if data.strftime(\"%A\") in dias_semana:\n",
    "        feriados_semana.append(feriado)\n",
    "\n",
    "print(f\"{len(feriados_semana)} Feriados caem em dias de semana em 2024\")"
   ]
  },
  {
   "cell_type": "markdown",
   "metadata": {},
   "source": [
    "4. **Qual foi a temperatura média em cada mês?**  "
   ]
  },
  {
   "cell_type": "code",
   "execution_count": 110,
   "metadata": {},
   "outputs": [
    {
     "name": "stdout",
     "output_type": "stream",
     "text": [
      "mes\n",
      "1    27.104839\n",
      "2    27.722414\n",
      "3    26.891935\n",
      "4    25.650000\n",
      "5    25.583871\n",
      "6    23.236667\n",
      "7    21.674194\n",
      "8    21.800000\n",
      "Name: temp_media, dtype: float64\n"
     ]
    }
   ],
   "source": [
    "datas = clima['daily']['time']\n",
    "temp_max = clima['daily']['temperature_2m_max']\n",
    "temp_min = clima['daily']['temperature_2m_min']\n",
    "codigo_clima = clima['daily']['weathercode']\n",
    "\n",
    "df = pd.DataFrame({\n",
    "    'data': pd.to_datetime(datas),\n",
    "    'temp_max': temp_max,\n",
    "    'temp_min': temp_min,\n",
    "    'codigo_clima': codigo_clima,\n",
    "    \n",
    "})\n",
    "\n",
    "df['temp_media'] = (df['temp_max'] + df['temp_min']) / 2\n",
    "df['mes'] = df['data'].dt.month\n",
    "media_mensal = df.groupby('mes')['temp_media'].mean()\n",
    "print(media_mensal)\n"
   ]
  },
  {
   "cell_type": "markdown",
   "metadata": {},
   "source": [
    "5. **Qual foi o tempo predominante em cada mês nesse período?**  "
   ]
  },
  {
   "cell_type": "code",
   "execution_count": 111,
   "metadata": {},
   "outputs": [
    {
     "name": "stdout",
     "output_type": "stream",
     "text": [
      "mes\n",
      "1             Rain\n",
      "2    Light Drizzle\n",
      "3    Light Drizzle\n",
      "4           Cloudy\n",
      "5    Light Drizzle\n",
      "6           Cloudy\n",
      "7           Cloudy\n",
      "8           Cloudy\n",
      "Name: descricao_clima, dtype: object\n"
     ]
    }
   ],
   "source": [
    "def obter_codigo_clima(codigo_clima):\n",
    "    return descricao[str(codigo_clima)]['day']['description']\n",
    "\n",
    "df['descricao_clima'] = df['codigo_clima'].apply(obter_codigo_clima)\n",
    "\n",
    "descricao_predominante = df.groupby('mes')['descricao_clima'].agg(lambda x: x.mode()[0])\n",
    "print(descricao_predominante)"
   ]
  },
  {
   "cell_type": "markdown",
   "metadata": {},
   "source": [
    "6. **Qual foi o tempo e a temperatura média em cada feriado de 01/01/2024 a 01/08/2024?**"
   ]
  },
  {
   "cell_type": "code",
   "execution_count": 112,
   "metadata": {},
   "outputs": [
    {
     "name": "stdout",
     "output_type": "stream",
     "text": [
      "No Feriado Confraternização Universal o tempo era Light Drizzle e a temperatura média era 24.85\n",
      "No Feriado Carnaval o tempo era Cloudy e a temperatura média era 30.8\n",
      "No Feriado Carnaval o tempo era Light Drizzle e a temperatura média era 31.15\n",
      "No Feriado Sexta-feira Santa o tempo era Light Rain e a temperatura média era 25.700000000000003\n",
      "No Feriado Domingo de Páscoa o tempo era Drizzle e a temperatura média era 24.7\n",
      "No Feriado Dia de Tiradentes o tempo era Partly Cloudy e a temperatura média era 23.5\n",
      "No Feriado Dia do Trabalhador o tempo era Sunny e a temperatura média era 28.35\n",
      "No Feriado Corpus Christi o tempo era Light Drizzle e a temperatura média era 20.9\n",
      "No Feriado Revolução Constitucionalista de 1932 o tempo era Drizzle e a temperatura média era 21.95\n"
     ]
    }
   ],
   "source": [
    "df_feriados = pd.DataFrame.from_dict(feriados)\n",
    "df_feriados.rename(columns={'date': 'data'}, inplace=True)\n",
    "\n",
    "df['data'] = pd.to_datetime(df['data'])\n",
    "df_feriados['data'] = pd.to_datetime(df_feriados['data'])\n",
    "\n",
    "df_filtrado = df[df['data'].isin(df_feriados['data'])].reset_index(drop=True)\n",
    "\n",
    "df_unido = pd.merge(df_feriados, df_filtrado, left_on='data', right_on='data', how='inner')\n",
    "\n",
    "for i in df_unido.index:\n",
    "    feriado = df_unido['localName'][i]\n",
    "    tempo = df_unido['descricao_clima'][i]\n",
    "    temp_media = df_unido['temp_media'][i]\n",
    "\n",
    "    print(f'No Feriado {feriado} o tempo era {tempo} e a temperatura média era {temp_media}')"
   ]
  },
  {
   "cell_type": "markdown",
   "metadata": {},
   "source": [
    "7. **Houve algum feriado \"não aproveitável\" em 2024? Se sim, qual(is)?**"
   ]
  },
  {
   "cell_type": "code",
   "execution_count": 113,
   "metadata": {},
   "outputs": [
    {
     "name": "stdout",
     "output_type": "stream",
     "text": [
      "Feriado Confraternização Universal Não foi aproveitável pois estava Totalmente Nublado ou chuvoso\n",
      "Feriado Carnaval Não foi aproveitável pois estava Totalmente Nublado ou chuvoso\n",
      "Feriado Carnaval Não foi aproveitável pois estava Totalmente Nublado ou chuvoso\n",
      "Feriado Sexta-feira Santa Não foi aproveitável pois estava Totalmente Nublado ou chuvoso\n",
      "Feriado Domingo de Páscoa Não foi aproveitável pois estava Totalmente Nublado ou chuvoso\n",
      "Feriado Corpus Christi Não foi aproveitável pois estava Totalmente Nublado ou chuvoso\n",
      "Feriado Revolução Constitucionalista de 1932 Não foi aproveitável pois estava Totalmente Nublado ou chuvoso\n"
     ]
    }
   ],
   "source": [
    "for i in df_unido.index:\n",
    "    feriado = df_unido['localName'][i]\n",
    "    tempo = df_unido['descricao_clima'][i]\n",
    "    temp_media = df_unido['temp_media'][i]\n",
    "\n",
    "    if temp_media < 20:\n",
    "        print(f'Feriado {feriado} Não foi aproveitável pois estava Frio')\n",
    "    elif tempo not in ['Sunny', 'Partly Cloudy']:\n",
    "        print(f'Feriado {feriado} Não foi aproveitável pois estava Totalmente Nublado ou chuvoso')"
   ]
  },
  {
   "cell_type": "markdown",
   "metadata": {},
   "source": [
    "8. **Qual foi o feriado \"mais aproveitável\" de 2024?**  "
   ]
  },
  {
   "cell_type": "code",
   "execution_count": null,
   "metadata": {},
   "outputs": [
    {
     "name": "stdout",
     "output_type": "stream",
     "text": [
      "O Feriado mais proveitoso foi o Dia do Trabalhador\n"
     ]
    }
   ],
   "source": [
    "feriados_mais_proveitoso = ''\n",
    "melhor_temperatura = 0\n",
    "for i in df_unido.index:\n",
    "    feriado = df_unido['localName'][i]\n",
    "    tempo = df_unido['descricao_clima'][i]\n",
    "    temp_media = df_unido['temp_media'][i]\n",
    "    \n",
    "    if temp_media > 20:\n",
    "        if tempo in ['Sunny', 'Partly Cloudy']:\n",
    "            if temp_media > melhor_temperatura:\n",
    "                feriados_mais_proveitoso = feriado\n",
    "\n",
    "print(f'O Feriado mais proveitoso foi o {feriados_mais_proveitoso} pois estava')"
   ]
  }
 ],
 "metadata": {
  "kernelspec": {
   "display_name": "Python 3",
   "language": "python",
   "name": "python3"
  },
  "language_info": {
   "codemirror_mode": {
    "name": "ipython",
    "version": 3
   },
   "file_extension": ".py",
   "mimetype": "text/x-python",
   "name": "python",
   "nbconvert_exporter": "python",
   "pygments_lexer": "ipython3",
   "version": "3.13.2"
  }
 },
 "nbformat": 4,
 "nbformat_minor": 2
}
