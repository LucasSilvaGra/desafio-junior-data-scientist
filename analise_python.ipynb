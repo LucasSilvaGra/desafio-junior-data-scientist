{
 "cells": [
  {
   "cell_type": "code",
   "execution_count": 13,
   "metadata": {},
   "outputs": [],
   "source": [
    "import basedosdados as bd"
   ]
  },
  {
   "cell_type": "code",
   "execution_count": null,
   "metadata": {},
   "outputs": [],
   "source": [
    "query = ''''''\n",
    "\n",
    "df = bd.read_sql(query, billing_project_id=\"projeto-prefeitura-454216\")\n",
    "\n",
    "df"
   ]
  },
  {
   "cell_type": "markdown",
   "metadata": {},
   "source": [
    "1. Quantos chamados foram abertos no dia 01/04/2023?"
   ]
  },
  {
   "cell_type": "code",
   "execution_count": 14,
   "metadata": {},
   "outputs": [
    {
     "name": "stdout",
     "output_type": "stream",
     "text": [
      "Downloading: 100%|\u001b[32m██████████\u001b[0m|\n",
      "Foram abertos 1903 no dia 01/04/2023\n"
     ]
    }
   ],
   "source": [
    "query = \"SELECT COUNT(id_chamado) AS total_chamados FROM `datario.adm_central_atendimento_1746.chamado` WHERE DATE(data_inicio) = DATE('2023-04-01');\"\n",
    "\n",
    "df = bd.read_sql(query, billing_project_id=\"projeto-prefeitura-454216\")\n",
    "\n",
    "total_chamados = df['total_chamados'][0]\n",
    "\n",
    "print(f\"Foram abertos {total_chamados} no dia 01/04/2023\")"
   ]
  },
  {
   "cell_type": "markdown",
   "metadata": {},
   "source": [
    "2. Qual o tipo de chamado que teve mais teve chamados abertos no dia 01/04/2023?"
   ]
  },
  {
   "cell_type": "code",
   "execution_count": 17,
   "metadata": {},
   "outputs": [
    {
     "name": "stdout",
     "output_type": "stream",
     "text": [
      "Downloading: 100%|\u001b[32m██████████\u001b[0m|\n",
      "O Tipo de chamado que teve mais chamados abertos foi Estacionamento irregular com 373 casos no dia 01/04/2023\n"
     ]
    }
   ],
   "source": [
    "query = \"SELECT tipo, COUNT(id_chamado) AS total_chamados FROM `datario.adm_central_atendimento_1746.chamado` WHERE DATE(data_inicio) = DATE('2023-04-01') GROUP BY tipo ORDER BY total_chamados DESC LIMIT 1;\"\n",
    "\n",
    "df = bd.read_sql(query, billing_project_id=\"projeto-prefeitura-454216\")\n",
    "\n",
    "tipo_de_chamado = df['tipo'][0]\n",
    "total_chamados = df['total_chamados'][0]\n",
    "\n",
    "print(f\"O Tipo de chamado que teve mais chamados abertos foi {tipo_de_chamado} com {total_chamados} casos no dia 01/04/2023\")"
   ]
  },
  {
   "cell_type": "markdown",
   "metadata": {},
   "source": [
    "3. Quais os nomes dos 3 bairros que mais tiveram chamados abertos nesse dia?"
   ]
  },
  {
   "cell_type": "code",
   "execution_count": 23,
   "metadata": {},
   "outputs": [
    {
     "name": "stdout",
     "output_type": "stream",
     "text": [
      "Downloading: 100%|\u001b[32m██████████\u001b[0m|\n",
      "Os Bairros com mais chamados abertos foram Campo Grande, Tijuca e Barra da Tijuca.\n"
     ]
    }
   ],
   "source": [
    "query = \"SELECT Bairro.nome, COUNT(Chamado.id_chamado) AS total_chamados FROM `datario.adm_central_atendimento_1746.chamado` AS Chamado LEFT JOIN `datario.dados_mestres.bairro` AS Bairro on Bairro.id_bairro = Chamado.id_bairro WHERE DATE(data_inicio) = DATE('2023-04-01') AND Chamado.id_bairro is not Null GROUP BY Bairro.nome ORDER BY total_chamados DESC LIMIT 3;\"\n",
    "\n",
    "df = bd.read_sql(query, billing_project_id=\"projeto-prefeitura-454216\")\n",
    "\n",
    "bairros = f\"{df['nome'][0]}, {df['nome'][1]} e {df['nome'][2]}.\" \n",
    "\n",
    "print(f\"Os Bairros com mais chamados abertos foram {bairros}\")"
   ]
  },
  {
   "cell_type": "markdown",
   "metadata": {},
   "source": [
    "4. Qual o nome da subprefeitura com mais chamados abertos nesse dia?"
   ]
  },
  {
   "cell_type": "code",
   "execution_count": 26,
   "metadata": {},
   "outputs": [
    {
     "name": "stdout",
     "output_type": "stream",
     "text": [
      "Downloading: 100%|\u001b[32m██████████\u001b[0m|\n",
      "A Subprefeitura com mais chamados abertos no dia 01/04/2023 foi a Subprefeitura Zona Norte\n"
     ]
    }
   ],
   "source": [
    "query = \"SELECT Bairro.subprefeitura, COUNT(Chamado.id_chamado) AS total_chamados FROM `datario.adm_central_atendimento_1746.chamado` AS Chamado LEFT JOIN `datario.dados_mestres.bairro` AS Bairro on Bairro.id_bairro = Chamado.id_bairro WHERE DATE(data_inicio) = DATE('2023-04-01') AND Chamado.id_bairro is not Null GROUP BY Bairro.subprefeitura ORDER BY total_chamados DESC LIMIT 1;\"\n",
    "\n",
    "df = bd.read_sql(query, billing_project_id=\"projeto-prefeitura-454216\")\n",
    "\n",
    "subprefeitura = df['subprefeitura'][0]\n",
    "\n",
    "print(f\"A Subprefeitura com mais chamados abertos no dia 01/04/2023 foi a Subprefeitura {subprefeitura}\")"
   ]
  },
  {
   "cell_type": "markdown",
   "metadata": {},
   "source": [
    "5. Existe algum chamado aberto nesse dia que não foi associado a um bairro ou subprefeitura na tabela de bairros? Se sim, por que isso acontece?"
   ]
  },
  {
   "cell_type": "code",
   "execution_count": 27,
   "metadata": {},
   "outputs": [
    {
     "name": "stdout",
     "output_type": "stream",
     "text": [
      "Isso Acontece pois há chamados em que não foi preenchido o campo id_bairro, logo não há como fazer ligação com a tabela de bairros.\n"
     ]
    }
   ],
   "source": [
    "print(\"Isso Acontece pois há chamados em que não foi preenchido o campo id_bairro, logo não há como fazer ligação com a tabela de bairros.\")"
   ]
  },
  {
   "cell_type": "markdown",
   "metadata": {},
   "source": [
    "6. Quantos chamados com o subtipo \"Perturbação do sossego\" foram abertos desde 01/01/2022 até 31/12/2023 (incluindo extremidades)?"
   ]
  },
  {
   "cell_type": "code",
   "execution_count": 31,
   "metadata": {},
   "outputs": [
    {
     "name": "stdout",
     "output_type": "stream",
     "text": [
      "Downloading: 100%|\u001b[32m██████████\u001b[0m|\n",
      "Foram abertos 61958 chamados de Pertubação de Sossego neste período\n"
     ]
    }
   ],
   "source": [
    "query = \"SELECT  COUNT(id_chamado) AS total_chamados FROM `datario.adm_central_atendimento_1746.chamado` WHERE DATE(data_inicio) BETWEEN DATE('2022-01-01') AND DATE('2023-12-31') AND LOWER(subtipo) like '%sossego%' ORDER BY total_chamados DESC;\"\n",
    "\n",
    "df = bd.read_sql(query, billing_project_id=\"projeto-prefeitura-454216\")\n",
    "\n",
    "chamados = df['total_chamados'][0]\n",
    "\n",
    "print(f'Foram abertos {chamados} chamados de Pertubação de Sossego neste período')"
   ]
  },
  {
   "cell_type": "markdown",
   "metadata": {},
   "source": [
    "7. Selecione os chamados com esse subtipo que foram abertos durante os eventos contidos na tabela de eventos (Reveillon, Carnaval e Rock in Rio)."
   ]
  },
  {
   "cell_type": "code",
   "execution_count": 35,
   "metadata": {},
   "outputs": [
    {
     "name": "stdout",
     "output_type": "stream",
     "text": [
      "Downloading: 100%|\u001b[32m██████████\u001b[0m|\n"
     ]
    },
    {
     "data": {
      "text/html": [
       "<div>\n",
       "<style scoped>\n",
       "    .dataframe tbody tr th:only-of-type {\n",
       "        vertical-align: middle;\n",
       "    }\n",
       "\n",
       "    .dataframe tbody tr th {\n",
       "        vertical-align: top;\n",
       "    }\n",
       "\n",
       "    .dataframe thead th {\n",
       "        text-align: right;\n",
       "    }\n",
       "</style>\n",
       "<table border=\"1\" class=\"dataframe\">\n",
       "  <thead>\n",
       "    <tr style=\"text-align: right;\">\n",
       "      <th></th>\n",
       "      <th>id_chamado</th>\n",
       "      <th>data_chamado</th>\n",
       "      <th>evento</th>\n",
       "      <th>evento_data_inicio</th>\n",
       "      <th>evento_data_final</th>\n",
       "    </tr>\n",
       "  </thead>\n",
       "  <tbody>\n",
       "    <tr>\n",
       "      <th>0</th>\n",
       "      <td>17658238</td>\n",
       "      <td>2022-09-02</td>\n",
       "      <td>Rock in Rio</td>\n",
       "      <td>2022-09-02</td>\n",
       "      <td>2022-09-04</td>\n",
       "    </tr>\n",
       "    <tr>\n",
       "      <th>1</th>\n",
       "      <td>17658242</td>\n",
       "      <td>2022-09-02</td>\n",
       "      <td>Rock in Rio</td>\n",
       "      <td>2022-09-02</td>\n",
       "      <td>2022-09-04</td>\n",
       "    </tr>\n",
       "    <tr>\n",
       "      <th>2</th>\n",
       "      <td>17658243</td>\n",
       "      <td>2022-09-02</td>\n",
       "      <td>Rock in Rio</td>\n",
       "      <td>2022-09-02</td>\n",
       "      <td>2022-09-04</td>\n",
       "    </tr>\n",
       "    <tr>\n",
       "      <th>3</th>\n",
       "      <td>17658249</td>\n",
       "      <td>2022-09-02</td>\n",
       "      <td>Rock in Rio</td>\n",
       "      <td>2022-09-02</td>\n",
       "      <td>2022-09-04</td>\n",
       "    </tr>\n",
       "    <tr>\n",
       "      <th>4</th>\n",
       "      <td>17658250</td>\n",
       "      <td>2022-09-02</td>\n",
       "      <td>Rock in Rio</td>\n",
       "      <td>2022-09-02</td>\n",
       "      <td>2022-09-04</td>\n",
       "    </tr>\n",
       "    <tr>\n",
       "      <th>...</th>\n",
       "      <td>...</td>\n",
       "      <td>...</td>\n",
       "      <td>...</td>\n",
       "      <td>...</td>\n",
       "      <td>...</td>\n",
       "    </tr>\n",
       "    <tr>\n",
       "      <th>1643</th>\n",
       "      <td>21273558</td>\n",
       "      <td>2025-01-01</td>\n",
       "      <td>Réveillon</td>\n",
       "      <td>2024-12-31</td>\n",
       "      <td>2025-01-01</td>\n",
       "    </tr>\n",
       "    <tr>\n",
       "      <th>1644</th>\n",
       "      <td>21273576</td>\n",
       "      <td>2025-01-01</td>\n",
       "      <td>Réveillon</td>\n",
       "      <td>2024-12-31</td>\n",
       "      <td>2025-01-01</td>\n",
       "    </tr>\n",
       "    <tr>\n",
       "      <th>1645</th>\n",
       "      <td>21273580</td>\n",
       "      <td>2025-01-01</td>\n",
       "      <td>Réveillon</td>\n",
       "      <td>2024-12-31</td>\n",
       "      <td>2025-01-01</td>\n",
       "    </tr>\n",
       "    <tr>\n",
       "      <th>1646</th>\n",
       "      <td>21273584</td>\n",
       "      <td>2025-01-01</td>\n",
       "      <td>Réveillon</td>\n",
       "      <td>2024-12-31</td>\n",
       "      <td>2025-01-01</td>\n",
       "    </tr>\n",
       "    <tr>\n",
       "      <th>1647</th>\n",
       "      <td>21273597</td>\n",
       "      <td>2025-01-01</td>\n",
       "      <td>Réveillon</td>\n",
       "      <td>2024-12-31</td>\n",
       "      <td>2025-01-01</td>\n",
       "    </tr>\n",
       "  </tbody>\n",
       "</table>\n",
       "<p>1648 rows × 5 columns</p>\n",
       "</div>"
      ],
      "text/plain": [
       "     id_chamado data_chamado       evento evento_data_inicio evento_data_final\n",
       "0      17658238   2022-09-02  Rock in Rio         2022-09-02        2022-09-04\n",
       "1      17658242   2022-09-02  Rock in Rio         2022-09-02        2022-09-04\n",
       "2      17658243   2022-09-02  Rock in Rio         2022-09-02        2022-09-04\n",
       "3      17658249   2022-09-02  Rock in Rio         2022-09-02        2022-09-04\n",
       "4      17658250   2022-09-02  Rock in Rio         2022-09-02        2022-09-04\n",
       "...         ...          ...          ...                ...               ...\n",
       "1643   21273558   2025-01-01    Réveillon         2024-12-31        2025-01-01\n",
       "1644   21273576   2025-01-01    Réveillon         2024-12-31        2025-01-01\n",
       "1645   21273580   2025-01-01    Réveillon         2024-12-31        2025-01-01\n",
       "1646   21273584   2025-01-01    Réveillon         2024-12-31        2025-01-01\n",
       "1647   21273597   2025-01-01    Réveillon         2024-12-31        2025-01-01\n",
       "\n",
       "[1648 rows x 5 columns]"
      ]
     },
     "execution_count": 35,
     "metadata": {},
     "output_type": "execute_result"
    }
   ],
   "source": [
    "query = \"WITH Eventos_Corrigidos AS (   SELECT ano,          data_inicial,          data_final,          evento   FROM `datario.turismo_fluxo_visitantes.rede_hoteleira_ocupacao_eventos`   WHERE data_inicial IS NOT NULL   UNION ALL   SELECT '13/09 a 15/09 de 2024', '2024-09-13', '2024-09-15', 'Rock in Rio'   UNION ALL   SELECT '19/09 a 22/09 de 2024', '2024-09-19', '2024-09-22', 'Rock in Rio'   UNION ALL   SELECT '29-31/12 e 01/01 (2024-2025)', '2024-12-31', '2025-01-01', 'Réveillon' ) SELECT   ch.id_chamado,   DATE(ch.data_inicio) AS data_chamado,   ev.evento,   ev.data_inicial AS evento_data_inicio,   ev.data_final AS evento_data_final FROM `datario.adm_central_atendimento_1746.chamado` ch JOIN Eventos_Corrigidos AS ev   ON (DATE(ch.data_inicio) BETWEEN ev.data_inicial AND ev.data_final) WHERE LOWER(ch.subtipo) LIKE '%sossego%'   AND ev.evento != 'nan' ORDER BY ch.id_chamado;\"\n",
    "\n",
    "df = bd.read_sql(query, billing_project_id=\"projeto-prefeitura-454216\")\n",
    "\n",
    "df"
   ]
  },
  {
   "cell_type": "markdown",
   "metadata": {},
   "source": [
    "8. Quantos chamados desse subtipo foram abertos em cada evento?"
   ]
  },
  {
   "cell_type": "code",
   "execution_count": 38,
   "metadata": {},
   "outputs": [
    {
     "name": "stdout",
     "output_type": "stream",
     "text": [
      "Downloading: 100%|\u001b[32m██████████\u001b[0m|\n",
      "Para o evento Rock in Rio foram abertos 946 chamados\n",
      "Para o evento Carnaval foram abertos 391 chamados\n",
      "Para o evento Réveillon foram abertos 311 chamados\n"
     ]
    }
   ],
   "source": [
    "query = '''WITH Eventos_Corrigidos AS (\n",
    "  SELECT ano,\n",
    "         data_inicial,\n",
    "         data_final,\n",
    "         evento\n",
    "  FROM `datario.turismo_fluxo_visitantes.rede_hoteleira_ocupacao_eventos`\n",
    "  WHERE data_inicial IS NOT NULL\n",
    "\n",
    "  UNION ALL\n",
    "  SELECT '13/09 a 15/09 de 2024', '2024-09-13', '2024-09-15', 'Rock in Rio'\n",
    "  UNION ALL\n",
    "  SELECT '19/09 a 22/09 de 2024', '2024-09-19', '2024-09-22', 'Rock in Rio'\n",
    "  UNION ALL\n",
    "  SELECT '29-31/12 e 01/01 (2024-2025)', '2024-12-31', '2025-01-01', 'Réveillon'\n",
    ")\n",
    "SELECT\n",
    "  ev.evento,\n",
    "  COUNT(id_chamado) AS total_chamados\n",
    "FROM `datario.adm_central_atendimento_1746.chamado` ch\n",
    "JOIN Eventos_Corrigidos AS ev\n",
    "  ON (DATE(ch.data_inicio) BETWEEN ev.data_inicial AND ev.data_final)\n",
    "WHERE LOWER(ch.subtipo) LIKE '%sossego%'\n",
    "  AND ev.evento != 'nan'\n",
    "GROUP BY ev.evento\n",
    "ORDER BY total_chamados DESC'''\n",
    "\n",
    "df = bd.read_sql(query, billing_project_id=\"projeto-prefeitura-454216\")\n",
    "\n",
    "for i in df.index:\n",
    "    print(f\"Para o evento {df['evento'][i]} foram abertos {df['total_chamados'][i]} chamados\")"
   ]
  },
  {
   "cell_type": "markdown",
   "metadata": {},
   "source": [
    "9. Qual evento teve a maior média diária de chamados abertos desse subtipo?"
   ]
  },
  {
   "cell_type": "code",
   "execution_count": 40,
   "metadata": {},
   "outputs": [
    {
     "name": "stdout",
     "output_type": "stream",
     "text": [
      "Downloading: 100%|\u001b[32m██████████\u001b[0m|\n",
      "O Evento Rock in Rio teve a Maior média diária, obtendo 135.14285714285714 casos por dia\n"
     ]
    }
   ],
   "source": [
    "query = '''WITH Eventos_Corrigidos AS (\n",
    "  SELECT ano,\n",
    "         data_inicial,\n",
    "         data_final,\n",
    "         evento\n",
    "  FROM `datario.turismo_fluxo_visitantes.rede_hoteleira_ocupacao_eventos`\n",
    "  WHERE data_inicial IS NOT NULL\n",
    "\n",
    "  UNION ALL\n",
    "  SELECT '13/09 a 15/09 de 2024', '2024-09-13', '2024-09-15', 'Rock in Rio'\n",
    "  UNION ALL\n",
    "  SELECT '19/09 a 22/09 de 2024', '2024-09-19', '2024-09-22', 'Rock in Rio'\n",
    "  UNION ALL\n",
    "  SELECT '29-31/12 e 01/01 (2024-2025)', '2024-12-31', '2025-01-01', 'Réveillon'\n",
    ")\n",
    "SELECT\n",
    "  ev.evento,\n",
    "  COUNT(id_chamado)/COUNT(DISTINCT(DATE(ch.data_inicio))) AS media_diaria\n",
    "FROM `datario.adm_central_atendimento_1746.chamado` ch\n",
    "JOIN Eventos_Corrigidos AS ev\n",
    "  ON (DATE(ch.data_inicio) BETWEEN ev.data_inicial AND ev.data_final)\n",
    "WHERE LOWER(ch.subtipo) LIKE '%sossego%'\n",
    "  AND ev.evento != 'nan'\n",
    "GROUP BY ev.evento\n",
    "ORDER BY media_diaria DESC\n",
    "LIMIT 1;'''\n",
    "\n",
    "df = bd.read_sql(query, billing_project_id=\"projeto-prefeitura-454216\")\n",
    "\n",
    "print(f\"O Evento {df['evento'][0]} teve a Maior média diária, obtendo {df['media_diaria'][0]} casos por dia\")"
   ]
  },
  {
   "cell_type": "markdown",
   "metadata": {},
   "source": [
    "10. Compare as médias diárias de chamados abertos desse subtipo durante os eventos específicos (Reveillon, Carnaval e Rock in Rio) e a média diária de chamados abertos desse subtipo considerando todo o período de 01/01/2022 até 31/12/2023."
   ]
  },
  {
   "cell_type": "code",
   "execution_count": 51,
   "metadata": {},
   "outputs": [
    {
     "name": "stdout",
     "output_type": "stream",
     "text": [
      "Downloading: 100%|\u001b[32m██████████\u001b[0m|\n",
      "Downloading: 100%|\u001b[32m██████████\u001b[0m|\n",
      "O Evento Rock in Rio Teve uma média de chamados Acima da Média Comum com 135.14285714285714 Casos por dia\n",
      "O Evento Carnaval Teve uma média de chamados Abaixo da Média Comum com 43.44444444444444 Casos por dia\n",
      "O Evento Réveillon Teve uma média de chamados Abaixo da Média Comum com 38.875 Casos por dia\n"
     ]
    }
   ],
   "source": [
    "query = '''WITH Eventos_Corrigidos AS (\n",
    "  SELECT ano,\n",
    "         data_inicial,\n",
    "         data_final,\n",
    "         evento\n",
    "  FROM `datario.turismo_fluxo_visitantes.rede_hoteleira_ocupacao_eventos`\n",
    "  WHERE data_inicial IS NOT NULL\n",
    "\n",
    "  UNION ALL\n",
    "  SELECT '13/09 a 15/09 de 2024', '2024-09-13', '2024-09-15', 'Rock in Rio'\n",
    "  UNION ALL\n",
    "  SELECT '19/09 a 22/09 de 2024', '2024-09-19', '2024-09-22', 'Rock in Rio'\n",
    "  UNION ALL\n",
    "  SELECT '29-31/12 e 01/01 (2024-2025)', '2024-12-31', '2025-01-01', 'Réveillon'\n",
    ")\n",
    "SELECT\n",
    "  ev.evento,\n",
    "  COUNT(id_chamado)/COUNT(DISTINCT(DATE(ch.data_inicio))) AS media_diaria\n",
    "FROM `datario.adm_central_atendimento_1746.chamado` ch\n",
    "JOIN Eventos_Corrigidos AS ev\n",
    "  ON (DATE(ch.data_inicio) BETWEEN ev.data_inicial AND ev.data_final)\n",
    "WHERE LOWER(ch.subtipo) LIKE '%sossego%'\n",
    "  AND ev.evento != 'nan'\n",
    "GROUP BY ev.evento\n",
    "ORDER BY media_diaria DESC\n",
    "'''\n",
    "\n",
    "df_eventos = bd.read_sql(query, billing_project_id=\"projeto-prefeitura-454216\")\n",
    "\n",
    "query = '''SELECT\n",
    "  COUNT(id_chamado)/COUNT(DISTINCT(DATE(data_inicio))) AS media_diaria\n",
    "FROM `datario.adm_central_atendimento_1746.chamado`\n",
    "WHERE DATE(data_inicio) BETWEEN DATE('2022-01-01') AND DATE('2023-12-31')\n",
    "AND LOWER(subtipo) like '%sossego%'\n",
    "ORDER BY media_diaria DESC;'''\n",
    "\n",
    "df_periodo = bd.read_sql(query, billing_project_id=\"projeto-prefeitura-454216\")\n",
    "\n",
    "media_periodo = df_periodo['media_diaria'][0]\n",
    "for i in df_eventos.index:\n",
    "    evento = df_eventos['evento'][i]\n",
    "    media_evento = df_eventos['media_diaria'][i]\n",
    "    if media_evento < media_periodo:\n",
    "        print(f\"O Evento {evento} Teve uma média de chamados Abaixo da Média Comum com {media_evento} Casos por dia\")\n",
    "    elif media_evento > media_periodo:\n",
    "        print(f\"O Evento {evento} Teve uma média de chamados Acima da Média Comum com {media_evento} Casos por dia\")\n",
    "    else:\n",
    "        print(f\"O Evento {evento} Teve uma média de chamados Dentro da Média Comum com {media_evento} Casos por dia\")\n"
   ]
  }
 ],
 "metadata": {
  "kernelspec": {
   "display_name": "Python 3",
   "language": "python",
   "name": "python3"
  },
  "language_info": {
   "codemirror_mode": {
    "name": "ipython",
    "version": 3
   },
   "file_extension": ".py",
   "mimetype": "text/x-python",
   "name": "python",
   "nbconvert_exporter": "python",
   "pygments_lexer": "ipython3",
   "version": "3.13.2"
  }
 },
 "nbformat": 4,
 "nbformat_minor": 2
}
